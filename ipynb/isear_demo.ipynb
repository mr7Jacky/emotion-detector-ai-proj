{
 "cells": [
  {
   "cell_type": "code",
   "execution_count": 1,
   "metadata": {},
   "outputs": [],
   "source": [
    "# Ref: https://towardsdatascience.com/multi-class-text-classification-with-lstm-1590bee1bd17\n",
    "import numpy as np \n",
    "import pandas as pd\n",
    "import matplotlib.pyplot as plt\n",
    "import seaborn as sns\n",
    "from keras.preprocessing.text import Tokenizer\n",
    "from keras.preprocessing.sequence import pad_sequences\n",
    "from keras.models import Sequential\n",
    "from keras import Model\n",
    "from keras.layers import Dense, Bidirectional, Embedding, LSTM, SpatialDropout1D, Input, Concatenate, GaussianNoise\n",
    "from sklearn.model_selection import train_test_split\n",
    "\n",
    "from keras.utils.np_utils import to_categorical\n",
    "from keras.callbacks import EarlyStopping\n",
    "from keras.layers import Dropout\n",
    "import os\n",
    "import io\n",
    "from nltk.corpus import stopwords\n",
    "import tensorflow as tf\n",
    "from bs4 import BeautifulSoup"
   ]
  },
  {
   "cell_type": "markdown",
   "metadata": {},
   "source": [
    "## Read data"
   ]
  },
  {
   "cell_type": "code",
   "execution_count": 9,
   "metadata": {},
   "outputs": [],
   "source": [
    "import nltk\n",
    "from preprocessing import preprocess_text"
   ]
  },
  {
   "cell_type": "code",
   "execution_count": 10,
   "metadata": {},
   "outputs": [
    {
     "data": {
      "text/html": [
       "<div>\n",
       "<style scoped>\n",
       "    .dataframe tbody tr th:only-of-type {\n",
       "        vertical-align: middle;\n",
       "    }\n",
       "\n",
       "    .dataframe tbody tr th {\n",
       "        vertical-align: top;\n",
       "    }\n",
       "\n",
       "    .dataframe thead th {\n",
       "        text-align: right;\n",
       "    }\n",
       "</style>\n",
       "<table border=\"1\" class=\"dataframe\">\n",
       "  <thead>\n",
       "    <tr style=\"text-align: right;\">\n",
       "      <th></th>\n",
       "      <th>index</th>\n",
       "      <th>Field1</th>\n",
       "      <th>SIT</th>\n",
       "      <th>CleanMsg</th>\n",
       "    </tr>\n",
       "  </thead>\n",
       "  <tbody>\n",
       "    <tr>\n",
       "      <th>0</th>\n",
       "      <td>0</td>\n",
       "      <td>joy</td>\n",
       "      <td>During the period of falling in love, each tim...</td>\n",
       "      <td>[joy]</td>\n",
       "    </tr>\n",
       "    <tr>\n",
       "      <th>1</th>\n",
       "      <td>1</td>\n",
       "      <td>fear</td>\n",
       "      <td>When I was involved in a traffic accident.</td>\n",
       "      <td>[fear]</td>\n",
       "    </tr>\n",
       "    <tr>\n",
       "      <th>2</th>\n",
       "      <td>2</td>\n",
       "      <td>anger</td>\n",
       "      <td>When I was driving home after  several days of...</td>\n",
       "      <td>[anger]</td>\n",
       "    </tr>\n",
       "    <tr>\n",
       "      <th>3</th>\n",
       "      <td>3</td>\n",
       "      <td>sadness</td>\n",
       "      <td>When I lost the person who meant the most to me.</td>\n",
       "      <td>[sadness]</td>\n",
       "    </tr>\n",
       "    <tr>\n",
       "      <th>4</th>\n",
       "      <td>4</td>\n",
       "      <td>disgust</td>\n",
       "      <td>The time I knocked a deer down - the sight of ...</td>\n",
       "      <td>[disgust]</td>\n",
       "    </tr>\n",
       "  </tbody>\n",
       "</table>\n",
       "</div>"
      ],
      "text/plain": [
       "   index   Field1                                                SIT  \\\n",
       "0      0      joy  During the period of falling in love, each tim...   \n",
       "1      1     fear         When I was involved in a traffic accident.   \n",
       "2      2    anger  When I was driving home after  several days of...   \n",
       "3      3  sadness  When I lost the person who meant the most to me.    \n",
       "4      4  disgust  The time I knocked a deer down - the sight of ...   \n",
       "\n",
       "    CleanMsg  \n",
       "0      [joy]  \n",
       "1     [fear]  \n",
       "2    [anger]  \n",
       "3  [sadness]  \n",
       "4  [disgust]  "
      ]
     },
     "execution_count": 10,
     "metadata": {},
     "output_type": "execute_result"
    }
   ],
   "source": [
    "data = pd.read_csv(\"../Database/ISEAR/isear_databank.csv\")\n",
    "data = data[['Field1', 'SIT']]\n",
    "text_col = 'Field1'\n",
    "data = preprocess_text(data,text_col)\n",
    "data.head()"
   ]
  },
  {
   "cell_type": "code",
   "execution_count": 11,
   "metadata": {},
   "outputs": [
    {
     "name": "stdout",
     "output_type": "stream",
     "text": [
      "1094 joy\n",
      "1095 fear\n",
      "1096 anger\n",
      "1096 sadness\n",
      "1096 disgust\n",
      "1096 shame\n",
      "1093 guilt\n"
     ]
    }
   ],
   "source": [
    "for i in data.Field1.unique():\n",
    "    print(len(data.loc[data[text_col] == i]),i)"
   ]
  },
  {
   "cell_type": "markdown",
   "metadata": {},
   "source": [
    "## Create embedding layer"
   ]
  },
  {
   "cell_type": "code",
   "execution_count": 12,
   "metadata": {},
   "outputs": [],
   "source": [
    "def getEmbeddings(file):\n",
    "    embeddingsIndex = {}\n",
    "    dim = 0\n",
    "    with io.open(file, encoding=\"utf8\") as f:\n",
    "        for line in f:\n",
    "            values = line.split()\n",
    "            word = values[0]\n",
    "            embeddingVector = np.asarray(values[1:], dtype='float32')\n",
    "            embeddingsIndex[word] = embeddingVector \n",
    "            dim = len(embeddingVector)\n",
    "    return embeddingsIndex, dim"
   ]
  },
  {
   "cell_type": "code",
   "execution_count": 13,
   "metadata": {},
   "outputs": [],
   "source": [
    "embeddings, dim = getEmbeddings(\"../glove/glove.6B.100d.txt\")"
   ]
  },
  {
   "cell_type": "code",
   "execution_count": 14,
   "metadata": {},
   "outputs": [],
   "source": [
    "tokenizer = Tokenizer(filters='')\n",
    "tokenizer.fit_on_texts([' '.join(list(embeddings.keys()))])\n",
    "word_index = tokenizer.word_index"
   ]
  },
  {
   "cell_type": "code",
   "execution_count": 15,
   "metadata": {},
   "outputs": [],
   "source": [
    "embedding_matrix = np.zeros((len(word_index) + 1, dim))\n",
    "for word, i in word_index.items():\n",
    "    embedding_matrix[i] = embeddings.get(word)"
   ]
  },
  {
   "cell_type": "markdown",
   "metadata": {},
   "source": [
    "## Dataset"
   ]
  },
  {
   "cell_type": "code",
   "execution_count": 257,
   "metadata": {},
   "outputs": [],
   "source": [
    "# Max number of words in each dialogue.\n",
    "MAX_SEQUENCE_LENGTH = 160"
   ]
  },
  {
   "cell_type": "code",
   "execution_count": 258,
   "metadata": {},
   "outputs": [
    {
     "name": "stdout",
     "output_type": "stream",
     "text": [
      "157\n",
      "Shape of data tensor: (7666, 160)\n"
     ]
    }
   ],
   "source": [
    "X = tokenizer.texts_to_sequences(data['SIT'].values)\n",
    "print(np.max([len(k) for k in X]))\n",
    "X = pad_sequences(X, maxlen=MAX_SEQUENCE_LENGTH)\n",
    "print('Shape of data tensor:', X.shape)"
   ]
  },
  {
   "cell_type": "code",
   "execution_count": 259,
   "metadata": {},
   "outputs": [
    {
     "name": "stdout",
     "output_type": "stream",
     "text": [
      "Shape of label tensor: (7666, 7)\n"
     ]
    }
   ],
   "source": [
    "#TODO: apply the column for data Y\n",
    "Y = pd.get_dummies(data[ 'Field1']).values\n",
    "print('Shape of label tensor:', Y.shape)"
   ]
  },
  {
   "cell_type": "code",
   "execution_count": 283,
   "metadata": {},
   "outputs": [
    {
     "name": "stdout",
     "output_type": "stream",
     "text": [
      "(7282, 160) (7282, 7)\n",
      "(384, 160) (384, 7)\n"
     ]
    }
   ],
   "source": [
    "X_train, X_test, Y_train, Y_test = train_test_split(X,Y,test_size = 0.050, random_state = 42)\n",
    "print(X_train.shape,Y_train.shape)\n",
    "print(X_test.shape,Y_test.shape)"
   ]
  },
  {
   "cell_type": "markdown",
   "metadata": {},
   "source": [
    "## Build MOdel"
   ]
  },
  {
   "cell_type": "code",
   "execution_count": 295,
   "metadata": {},
   "outputs": [
    {
     "name": "stdout",
     "output_type": "stream",
     "text": [
      "Model: \"sequential_41\"\n",
      "_________________________________________________________________\n",
      "Layer (type)                 Output Shape              Param #   \n",
      "=================================================================\n",
      "embedding_42 (Embedding)     (None, 160, 100)          40000100  \n",
      "_________________________________________________________________\n",
      "gaussian_noise_41 (GaussianN (None, 160, 100)          0         \n",
      "_________________________________________________________________\n",
      "spatial_dropout1d_21 (Spatia (None, 160, 100)          0         \n",
      "_________________________________________________________________\n",
      "bidirectional_43 (Bidirectio (None, 128)               84480     \n",
      "_________________________________________________________________\n",
      "dropout_34 (Dropout)         (None, 128)               0         \n",
      "_________________________________________________________________\n",
      "dense_84 (Dense)             (None, 30)                3870      \n",
      "_________________________________________________________________\n",
      "dense_85 (Dense)             (None, 7)                 217       \n",
      "=================================================================\n",
      "Total params: 40,088,667\n",
      "Trainable params: 88,567\n",
      "Non-trainable params: 40,000,100\n",
      "_________________________________________________________________\n"
     ]
    }
   ],
   "source": [
    "embedding_dim = embedding_matrix.shape[1]\n",
    "embedding_layer = Embedding(embedding_matrix.shape[0],\n",
    "                            embedding_dim,\n",
    "                            weights=[embedding_matrix],\n",
    "                            input_length=MAX_SEQUENCE_LENGTH,\n",
    "                            trainable=False)\n",
    "model = Sequential()\n",
    "model.add(embedding_layer)\n",
    "model.add(GaussianNoise(0.1, input_shape=(None, MAX_SEQUENCE_LENGTH, embedding_dim)))\n",
    "model.add(SpatialDropout1D(0.2))\n",
    "model.add(Bidirectional(LSTM(64, dropout=0.2)))\n",
    "model.add(Dropout(0.2))\n",
    "model.add(Dense(30, activation='relu'))\n",
    "model.add(Dense(7, activation='softmax'))\n",
    "model.compile(loss='categorical_crossentropy', optimizer='adam', metrics=['accuracy'])\n",
    "model.summary()"
   ]
  },
  {
   "cell_type": "markdown",
   "metadata": {},
   "source": [
    "# Training Data"
   ]
  },
  {
   "cell_type": "code",
   "execution_count": 296,
   "metadata": {},
   "outputs": [
    {
     "name": "stdout",
     "output_type": "stream",
     "text": [
      "Epoch 1/30\n",
      "146/146 [==============================] - 2s 15ms/step - loss: 1.9284 - accuracy: 0.1741 - val_loss: 1.8750 - val_accuracy: 0.2214\n",
      "Epoch 2/30\n",
      "146/146 [==============================] - 2s 12ms/step - loss: 1.8490 - accuracy: 0.2523 - val_loss: 1.7122 - val_accuracy: 0.3229\n",
      "Epoch 3/30\n",
      "146/146 [==============================] - 2s 12ms/step - loss: 1.7651 - accuracy: 0.3071 - val_loss: 1.6309 - val_accuracy: 0.3724\n",
      "Epoch 4/30\n",
      "146/146 [==============================] - 2s 12ms/step - loss: 1.7019 - accuracy: 0.3484 - val_loss: 1.5915 - val_accuracy: 0.4089\n",
      "Epoch 5/30\n",
      "146/146 [==============================] - 2s 12ms/step - loss: 1.6331 - accuracy: 0.3800 - val_loss: 1.5321 - val_accuracy: 0.4505\n",
      "Epoch 6/30\n",
      "146/146 [==============================] - 2s 12ms/step - loss: 1.5784 - accuracy: 0.4055 - val_loss: 1.4688 - val_accuracy: 0.4714\n",
      "Epoch 7/30\n",
      "146/146 [==============================] - 2s 12ms/step - loss: 1.5316 - accuracy: 0.4297 - val_loss: 1.4056 - val_accuracy: 0.4714\n",
      "Epoch 8/30\n",
      "146/146 [==============================] - 2s 12ms/step - loss: 1.4861 - accuracy: 0.4434 - val_loss: 1.3607 - val_accuracy: 0.5078\n",
      "Epoch 9/30\n",
      "146/146 [==============================] - 2s 12ms/step - loss: 1.4535 - accuracy: 0.4594 - val_loss: 1.3562 - val_accuracy: 0.5182\n",
      "Epoch 10/30\n",
      "146/146 [==============================] - 2s 12ms/step - loss: 1.4228 - accuracy: 0.4679 - val_loss: 1.3293 - val_accuracy: 0.5286\n",
      "Epoch 11/30\n",
      "146/146 [==============================] - 2s 12ms/step - loss: 1.3949 - accuracy: 0.4901 - val_loss: 1.3051 - val_accuracy: 0.5599\n",
      "Epoch 12/30\n",
      "146/146 [==============================] - 2s 12ms/step - loss: 1.3612 - accuracy: 0.4981 - val_loss: 1.2977 - val_accuracy: 0.5365\n",
      "Epoch 13/30\n",
      "146/146 [==============================] - 2s 12ms/step - loss: 1.3444 - accuracy: 0.5033 - val_loss: 1.2930 - val_accuracy: 0.5521\n",
      "Epoch 14/30\n",
      "146/146 [==============================] - 2s 12ms/step - loss: 1.3091 - accuracy: 0.5206 - val_loss: 1.2563 - val_accuracy: 0.5573\n",
      "Epoch 15/30\n",
      "146/146 [==============================] - 2s 12ms/step - loss: 1.3104 - accuracy: 0.5130 - val_loss: 1.2645 - val_accuracy: 0.5469\n",
      "Epoch 16/30\n",
      "146/146 [==============================] - 2s 12ms/step - loss: 1.3023 - accuracy: 0.5244 - val_loss: 1.2372 - val_accuracy: 0.5755\n",
      "Epoch 17/30\n",
      "146/146 [==============================] - 2s 12ms/step - loss: 1.2784 - accuracy: 0.5276 - val_loss: 1.2436 - val_accuracy: 0.5833\n",
      "Epoch 18/30\n",
      "146/146 [==============================] - 2s 12ms/step - loss: 1.2654 - accuracy: 0.5299 - val_loss: 1.2394 - val_accuracy: 0.5729\n",
      "Epoch 19/30\n",
      "146/146 [==============================] - 2s 12ms/step - loss: 1.2471 - accuracy: 0.5444 - val_loss: 1.2284 - val_accuracy: 0.5807\n",
      "Epoch 20/30\n",
      "146/146 [==============================] - 2s 12ms/step - loss: 1.2405 - accuracy: 0.5416 - val_loss: 1.2696 - val_accuracy: 0.5755\n",
      "Epoch 21/30\n",
      "146/146 [==============================] - 2s 12ms/step - loss: 1.2163 - accuracy: 0.5526 - val_loss: 1.2087 - val_accuracy: 0.5911\n",
      "Epoch 22/30\n",
      "146/146 [==============================] - 2s 12ms/step - loss: 1.2110 - accuracy: 0.5525 - val_loss: 1.2300 - val_accuracy: 0.5677\n",
      "Epoch 23/30\n",
      "146/146 [==============================] - 2s 12ms/step - loss: 1.1987 - accuracy: 0.5612 - val_loss: 1.1919 - val_accuracy: 0.5885\n",
      "Epoch 24/30\n",
      "146/146 [==============================] - 2s 12ms/step - loss: 1.1894 - accuracy: 0.5667 - val_loss: 1.2223 - val_accuracy: 0.5781\n",
      "Epoch 25/30\n",
      "146/146 [==============================] - 2s 12ms/step - loss: 1.1783 - accuracy: 0.5665 - val_loss: 1.1799 - val_accuracy: 0.6146\n",
      "Epoch 26/30\n",
      "146/146 [==============================] - 2s 12ms/step - loss: 1.1739 - accuracy: 0.5713 - val_loss: 1.1972 - val_accuracy: 0.5938\n",
      "Epoch 27/30\n",
      "146/146 [==============================] - 2s 12ms/step - loss: 1.1553 - accuracy: 0.5785 - val_loss: 1.1799 - val_accuracy: 0.6068\n",
      "Epoch 28/30\n",
      "146/146 [==============================] - 2s 12ms/step - loss: 1.1531 - accuracy: 0.5832 - val_loss: 1.2000 - val_accuracy: 0.5781\n",
      "Epoch 29/30\n",
      "146/146 [==============================] - 2s 12ms/step - loss: 1.1491 - accuracy: 0.5762 - val_loss: 1.1812 - val_accuracy: 0.5885\n"
     ]
    }
   ],
   "source": [
    "epochs = 30\n",
    "batch_size = 50\n",
    "history = model.fit(X_train,Y_train, epochs=epochs, batch_size=batch_size, \n",
    "                    validation_data=(X_test, Y_test), verbose = 1,\n",
    "                    callbacks=[EarlyStopping(monitor='val_loss', patience=4, min_delta=0.005, restore_best_weights=True)])"
   ]
  },
  {
   "cell_type": "code",
   "execution_count": 297,
   "metadata": {},
   "outputs": [
    {
     "name": "stdout",
     "output_type": "stream",
     "text": [
      "12/12 [==============================] - 0s 5ms/step - loss: 1.1799 - accuracy: 0.6146\n",
      "[1.1799129247665405, 0.6145833134651184]\n",
      "Test set\n",
      "  Loss: 1.180\n",
      "  Accuracy: 0.615\n"
     ]
    }
   ],
   "source": [
    "accr = model.evaluate(X_test,Y_test)\n",
    "print(accr)\n",
    "print('Test set\\n  Loss: {:0.3f}\\n  Accuracy: {:0.3f}'.format(accr[0],accr[1]))"
   ]
  },
  {
   "cell_type": "code",
   "execution_count": 298,
   "metadata": {},
   "outputs": [
    {
     "data": {
      "image/png": "[encoded data removed]",
      "text/plain": [
       "<Figure size 432x288 with 1 Axes>"
      ]
     },
     "metadata": {
      "needs_background": "light"
     },
     "output_type": "display_data"
    }
   ],
   "source": [
    "plt.title('Loss')\n",
    "plt.plot(history.history['loss'], label='train')\n",
    "plt.plot(history.history['val_loss'], label='test')\n",
    "plt.legend()\n",
    "plt.show();"
   ]
  },
  {
   "cell_type": "code",
   "execution_count": 299,
   "metadata": {},
   "outputs": [],
   "source": [
    "#history.history"
   ]
  },
  {
   "cell_type": "code",
   "execution_count": 300,
   "metadata": {},
   "outputs": [
    {
     "data": {
      "image/png": "[encoded data removed]",
      "text/plain": [
       "<Figure size 432x288 with 1 Axes>"
      ]
     },
     "metadata": {
      "needs_background": "light"
     },
     "output_type": "display_data"
    }
   ],
   "source": [
    "plt.title('Accuracy')\n",
    "plt.plot(history.history['accuracy'], label='train')\n",
    "plt.plot(history.history['val_accuracy'], label='test')\n",
    "plt.legend()\n",
    "plt.show();"
   ]
  }
 ],
 "metadata": {
  "kernelspec": {
   "display_name": "Python 3",
   "language": "python",
   "name": "python3"
  },
  "language_info": {
   "codemirror_mode": {
    "name": "ipython",
    "version": 3
   },
   "file_extension": ".py",
   "mimetype": "text/x-python",
   "name": "python",
   "nbconvert_exporter": "python",
   "pygments_lexer": "ipython3",
   "version": "3.7.3"
  }
 },
 "nbformat": 4,
 "nbformat_minor": 4
}
